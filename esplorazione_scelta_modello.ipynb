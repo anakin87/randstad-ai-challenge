{
 "cells": [
  {
   "cell_type": "markdown",
   "id": "4aace2e3",
   "metadata": {},
   "source": [
    "# Esplorazione e scelta del modello\n",
    "In questo notebook, riporto in maniera sintetica e semplificata le prove e i risultati che hanno portato alla scelta del migliore modello.\n",
    "<br>Nella realtà, le idee e gli algoritmi testati sono stati variegati e molteplici. Qui riporto solo i tentativi andati a buon fine.\n",
    "<br>Tra gli approcci che abbiamo messo alla prova, ricordo anche l'uso dei word embeddings (fastText) e dei language models (varianti di BERT). In ambito NLP, questi modelli ottengono in molti casi performance superiori alle tecniche tradizionali, usando maggiori tempi e risorse computazionali. Nel caso in esame, non hanno fornito buoni risultati, probabilmente perchè il dataset è relativamente piccolo e alcune classi non sono ben distinguibili. Ho ritenuto poco significativo riprodurre in questa sede gli esperimenti falliti."
   ]
  },
  {
   "cell_type": "code",
   "execution_count": 1,
   "id": "e4c75259",
   "metadata": {},
   "outputs": [],
   "source": [
    "import pandas as pd\n",
    "import json\n",
    "from sklearn.pipeline import Pipeline\n",
    "from sklearn.naive_bayes import MultinomialNB\n",
    "from sklearn.feature_extraction.text import TfidfVectorizer\n",
    "from sklearn import metrics\n",
    "from sklearn.linear_model import SGDClassifier\n",
    "from sklearn.preprocessing import FunctionTransformer\n",
    "from sklearn.feature_selection import SelectPercentile\n",
    "from sklearn.feature_selection import f_classif\n",
    "import random\n",
    "from sklearn.model_selection import ParameterGrid"
   ]
  },
  {
   "cell_type": "code",
   "execution_count": 2,
   "id": "fadd4c5b",
   "metadata": {},
   "outputs": [],
   "source": [
    "# imposto il seed per rendere il notebook riproducibile\n",
    "random.seed(15)"
   ]
  },
  {
   "cell_type": "code",
   "execution_count": 3,
   "id": "a63c89be",
   "metadata": {},
   "outputs": [],
   "source": [
    "# leggo training set e test set\n",
    "df_train=pd.read_csv('./input/train_set.csv')\n",
    "df_test=pd.read_csv('./input/test_set.csv')"
   ]
  },
  {
   "cell_type": "code",
   "execution_count": 4,
   "id": "585b9f1f",
   "metadata": {},
   "outputs": [],
   "source": [
    "def evaluate(model):\n",
    "    \"\"\"Funzione per stampare le metriche di interesse sul dataset di test, in base al modello scelto\"\"\"\n",
    "    print(metrics.classification_report(df_test.Label, model.predict(df_test.Job_offer), digits=5))"
   ]
  },
  {
   "cell_type": "markdown",
   "id": "86fe5e5e",
   "metadata": {},
   "source": [
    "## Baseline: TF-IDF + Naive Bayes\n",
    "Inizio con un modello molto semplice: per rappresentare il testo scelgo TF-IDF; per il classificatore, adotto Naive Bayes"
   ]
  },
  {
   "cell_type": "code",
   "execution_count": 5,
   "id": "6ad1da5f",
   "metadata": {},
   "outputs": [],
   "source": [
    "pipe_0 = Pipeline([\n",
    "        ('tfidf', TfidfVectorizer()),\n",
    "        ('clf', MultinomialNB()),\n",
    "    ])"
   ]
  },
  {
   "cell_type": "code",
   "execution_count": 6,
   "id": "65f69547",
   "metadata": {},
   "outputs": [
    {
     "data": {
      "text/plain": [
       "Pipeline(steps=[('tfidf', TfidfVectorizer()), ('clf', MultinomialNB())])"
      ]
     },
     "execution_count": 6,
     "metadata": {},
     "output_type": "execute_result"
    }
   ],
   "source": [
    "pipe_0.fit(df_train.Job_offer, df_train.Label)"
   ]
  },
  {
   "cell_type": "code",
   "execution_count": 7,
   "id": "2d427ae2",
   "metadata": {},
   "outputs": [
    {
     "name": "stdout",
     "output_type": "stream",
     "text": [
      "                   precision    recall  f1-score   support\n",
      "\n",
      "   Java Developer    0.68478   0.69231   0.68852        91\n",
      "       Programmer    0.60638   0.59375   0.60000        96\n",
      "Software Engineer    0.74359   0.38667   0.50877        75\n",
      "   System Analyst    0.96667   0.78378   0.86567        74\n",
      "    Web Developer    0.55844   0.83495   0.66926       103\n",
      "\n",
      "         accuracy                        0.66743       439\n",
      "        macro avg    0.71197   0.65829   0.66645       439\n",
      "     weighted avg    0.69556   0.66743   0.66380       439\n",
      "\n"
     ]
    }
   ],
   "source": [
    "evaluate(pipe_0)"
   ]
  },
  {
   "cell_type": "markdown",
   "id": "37978c71",
   "metadata": {},
   "source": [
    "Non male, ma possiamo molto migliorare   "
   ]
  },
  {
   "cell_type": "markdown",
   "id": "b8e4c248",
   "metadata": {},
   "source": [
    "## TF-IDF (con bigrammi) + Naive Bayes\n",
    "Può avere senso considerare anche le sequenza di 2 parole, oltre alle parole singole"
   ]
  },
  {
   "cell_type": "code",
   "execution_count": 8,
   "id": "2f0a2562",
   "metadata": {},
   "outputs": [],
   "source": [
    "pipe_1 = Pipeline([\n",
    "        ('tfidf', TfidfVectorizer(ngram_range=(1,2))),\n",
    "        ('clf', MultinomialNB()),\n",
    " ])"
   ]
  },
  {
   "cell_type": "code",
   "execution_count": 9,
   "id": "17d1b65f",
   "metadata": {},
   "outputs": [
    {
     "data": {
      "text/plain": [
       "Pipeline(steps=[('tfidf', TfidfVectorizer(ngram_range=(1, 2))),\n",
       "                ('clf', MultinomialNB())])"
      ]
     },
     "execution_count": 9,
     "metadata": {},
     "output_type": "execute_result"
    }
   ],
   "source": [
    "pipe_1.fit(df_train.Job_offer, df_train.Label)"
   ]
  },
  {
   "cell_type": "code",
   "execution_count": 10,
   "id": "6b3b1572",
   "metadata": {},
   "outputs": [
    {
     "name": "stdout",
     "output_type": "stream",
     "text": [
      "                   precision    recall  f1-score   support\n",
      "\n",
      "   Java Developer    0.74444   0.73626   0.74033        91\n",
      "       Programmer    0.73171   0.62500   0.67416        96\n",
      "Software Engineer    0.84091   0.49333   0.62185        75\n",
      "   System Analyst    0.96552   0.75676   0.84848        74\n",
      "    Web Developer    0.55758   0.89320   0.68657       103\n",
      "\n",
      "         accuracy                        0.71071       439\n",
      "        macro avg    0.76803   0.70091   0.71428       439\n",
      "     weighted avg    0.75156   0.71071   0.71124       439\n",
      "\n"
     ]
    }
   ],
   "source": [
    "evaluate(pipe_1)"
   ]
  },
  {
   "cell_type": "markdown",
   "id": "211a3f67",
   "metadata": {},
   "source": [
    "I risultati sono migliorati"
   ]
  },
  {
   "cell_type": "markdown",
   "id": "f7b769c0",
   "metadata": {},
   "source": [
    "## Trattamento parole accorpate\n",
    "Esaminando il vocabolario di TF-IDF, ci rendiamo conto che esistono alcuni errori nel dataset: parole separate sono state accorpate.\n",
    "<br> Vediamo qualche esempio:"
   ]
  },
  {
   "cell_type": "code",
   "execution_count": 11,
   "id": "fe563755",
   "metadata": {},
   "outputs": [
    {
     "data": {
      "text/plain": [
       "['automobilbranchezusammen',\n",
       " 'softwareanforderungen',\n",
       " 'programmazioneflessibilità',\n",
       " 'telecomunicazioniconoscenze',\n",
       " 'internazionalizzazione',\n",
       " 'datawarehouserequisito',\n",
       " 'indeterminatoretribuzione',\n",
       " 'indeterminatocategoria',\n",
       " 'informaticocompetenza',\n",
       " 'certificazionipossibilità']"
      ]
     },
     "execution_count": 11,
     "metadata": {},
     "output_type": "execute_result"
    }
   ],
   "source": [
    "[w for w in pipe_1.steps[0][1].vocabulary_.keys() if len(w.split())==1 if len(w)>20][:10]"
   ]
  },
  {
   "cell_type": "markdown",
   "id": "37609f89",
   "metadata": {},
   "source": [
    "Ovviamente gli errori sono fuorvianti e non permettono al modello di recepire il contenuto informativo delle parole accorpate.\n",
    "<br>Vista l'esiguità del dataset, le correggiamo, usando un dizionario compilato manualmente.\n",
    "<br>Il problema della separazione di parole accorpate è abbastanza complesso. Esistono trattazioni statistiche basate sull'algoritmo di Viterbi. Tuttavia non sono disponibili librerie che permettono di eseguire out-of-the-box la separazione per la lingua italiana."
   ]
  },
  {
   "cell_type": "code",
   "execution_count": 12,
   "id": "6a151d76",
   "metadata": {},
   "outputs": [
    {
     "name": "stdout",
     "output_type": "stream",
     "text": [
      "developerparliamo: developer parliamo\n",
      "softwaresystemen: software systemen\n",
      "softwareanforderungen: software anforderungen\n",
      "softwareentwicklung: software entwicklung\n",
      "servizimanutenere: servizi manutenere\n"
     ]
    }
   ],
   "source": [
    "# carico il dizionario delle correzioni\n",
    "with open('./input/correzioni.json') as fin:\n",
    "    correzioni=json.load(fin)\n",
    "for i,(k,v) in enumerate(correzioni.items()):\n",
    "    print(f'{k}: {v}')\n",
    "    if i==4: break"
   ]
  },
  {
   "cell_type": "code",
   "execution_count": 13,
   "id": "f2993db6",
   "metadata": {},
   "outputs": [],
   "source": [
    "def divide_words(series):\n",
    "    \"\"\"\n",
    "    Funzione che, applicata alla serie,\n",
    "    per ogni elemento divide le parole accorpate\n",
    "    \"\"\"\n",
    "    new_sentences=[]\n",
    "    \n",
    "    lower_series=series.str.lower()\n",
    "    for sentence in lower_series:\n",
    "        new_sentence=sentence\n",
    "        for composite_word,words in correzioni.items():\n",
    "            if composite_word in new_sentence:\n",
    "                new_sentence=new_sentence.replace(composite_word,words)\n",
    "        new_sentences.append(new_sentence)\n",
    "    new_series=pd.Series(new_sentences)\n",
    "    return new_series"
   ]
  },
  {
   "cell_type": "code",
   "execution_count": 14,
   "id": "46bcca75",
   "metadata": {},
   "outputs": [],
   "source": [
    "pipe_2 = Pipeline([\n",
    "        ('divide_words', FunctionTransformer(func=divide_words)),\n",
    "        ('tfidf', TfidfVectorizer(ngram_range=(1,2))),\n",
    "        ('clf', MultinomialNB()),\n",
    " ])"
   ]
  },
  {
   "cell_type": "code",
   "execution_count": 15,
   "id": "520c5f91",
   "metadata": {},
   "outputs": [
    {
     "data": {
      "text/plain": [
       "Pipeline(steps=[('divide_words',\n",
       "                 FunctionTransformer(func=<function divide_words at 0x7ff526467d30>)),\n",
       "                ('tfidf', TfidfVectorizer(ngram_range=(1, 2))),\n",
       "                ('clf', MultinomialNB())])"
      ]
     },
     "execution_count": 15,
     "metadata": {},
     "output_type": "execute_result"
    }
   ],
   "source": [
    "pipe_2.fit(df_train.Job_offer, df_train.Label)"
   ]
  },
  {
   "cell_type": "code",
   "execution_count": 16,
   "id": "e67780d4",
   "metadata": {},
   "outputs": [
    {
     "name": "stdout",
     "output_type": "stream",
     "text": [
      "                   precision    recall  f1-score   support\n",
      "\n",
      "   Java Developer    0.74444   0.73626   0.74033        91\n",
      "       Programmer    0.73750   0.61458   0.67045        96\n",
      "Software Engineer    0.82609   0.50667   0.62810        75\n",
      "   System Analyst    0.96552   0.75676   0.84848        74\n",
      "    Web Developer    0.55758   0.89320   0.68657       103\n",
      "\n",
      "         accuracy                        0.71071       439\n",
      "        macro avg    0.76622   0.70149   0.71479       439\n",
      "     weighted avg    0.75030   0.71071   0.71149       439\n",
      "\n"
     ]
    }
   ],
   "source": [
    "evaluate(pipe_2)"
   ]
  },
  {
   "cell_type": "markdown",
   "id": "8a9560aa",
   "metadata": {},
   "source": [
    "C'è stato un piccolo miglioramento..."
   ]
  },
  {
   "cell_type": "markdown",
   "id": "8c547c55",
   "metadata": {},
   "source": [
    "## Troncamento Job offer lunghe\n",
    "Ci accorgiamo che nel dataset sono presenti alcuni annunci che, come il seguente, contengono testo superfluo:"
   ]
  },
  {
   "cell_type": "code",
   "execution_count": 17,
   "id": "64dca7d6",
   "metadata": {},
   "outputs": [
    {
     "name": "stdout",
     "output_type": "stream",
     "text": [
      "i Almeno 3 anni di esperienza in analoga mansione Ottima conoscenza del linguaggio C#, HTML 5, Sql Server Jquery, Json, Ottima conoscenza di .Net framework 3.5 e successivi Capacità di lavorare in Team Buona capacità di adattamento e flessibilità nel ruolo e nella mansione Capacità di problem solving Orientamento all'obiettivo e al risultato Gradita conoscenza di: Javascript e Bootstrap. Programmazione microcontrollori in C++ Completano il profilo spirito di iniziativa e autonomia nello svolgimento del progetto assegnato Assunzione a tempo indeterminato direttamente da parte del cliente e RAL al di sopra della media del mercato. L'offerta di lavoro si intende rivolta all'uno e all'altro sesso in ottemperanza al D.Lgs. 198/2006.\n",
      "   Contatta l'utente, Grazie per averci aiutato a far rispettare le regole di pubblicazione degli annunci.\n",
      "   ×\n",
      "\n",
      "   Segnalazione già inviata!\n",
      "\n",
      "   Grazie per averci aiutato a far rispettare le regole di pubblicazione degli annunci.\n",
      "   ×\n",
      "\n",
      "   Spiacenti, l'invio della segnalazione non è riuscito\n",
      "\n",
      "   Riprova, oppure contatta l'Assistenza Clienti\n",
      "   ×, Ho letto l'informativa sulla Privacy\n",
      "   Do il mio consenso per ricevere email con offerte relative a Kijiji\n",
      "   Do il mio consenso per ricevere email promozionali da parte di terzi, incluse società del gruppo eBay\n",
      "   Conferma di non essere un robot! Cliccando su \"Invia\" accetti queste condizioni del sito.\n"
     ]
    }
   ],
   "source": [
    "# stampo la fine dell'annuncio\n",
    "print(df_train.loc[4].Job_offer[3500:])"
   ]
  },
  {
   "cell_type": "markdown",
   "id": "237d4937",
   "metadata": {},
   "source": [
    "Analizziamo la distribuzione del numero di parole nel dataset"
   ]
  },
  {
   "cell_type": "code",
   "execution_count": 18,
   "id": "bd6695b5",
   "metadata": {},
   "outputs": [],
   "source": [
    "def plot_word_number_histogram(text):\n",
    "    text.str.split().\\\n",
    "        map(lambda x: len(x)).\\\n",
    "        hist()"
   ]
  },
  {
   "cell_type": "code",
   "execution_count": 19,
   "id": "62fff64e",
   "metadata": {},
   "outputs": [
    {
     "data": {
      "image/png": "[encoded data removed]",
      "text/plain": [
       "<Figure size 432x288 with 1 Axes>"
      ]
     },
     "metadata": {
      "needs_background": "light"
     },
     "output_type": "display_data"
    }
   ],
   "source": [
    "plot_word_number_histogram(df_train['Job_offer'])"
   ]
  },
  {
   "cell_type": "markdown",
   "id": "e068849b",
   "metadata": {},
   "source": [
    "Sostanzialmente, la maggior parte degli annunci ha meno di 600 parole. Decidiamo, per ora, che questo deve essere il numero massimo. Successivamente, faremo prove più approfondite."
   ]
  },
  {
   "cell_type": "code",
   "execution_count": 20,
   "id": "dd8855dd",
   "metadata": {},
   "outputs": [],
   "source": [
    "def truncate_input(series,n_words):\n",
    "    \"\"\"\n",
    "    Funzione che, applicata alla serie,\n",
    "    per ogni elemento elimina le parole che eccedono n_words\n",
    "    \"\"\"\n",
    "    splitted_series=series.str.split()\n",
    "    truncated_series=pd.Series([' '.join(word[:n_words]) for word in splitted_series])\n",
    "    return truncated_series"
   ]
  },
  {
   "cell_type": "code",
   "execution_count": 21,
   "id": "d0f9b88e",
   "metadata": {},
   "outputs": [],
   "source": [
    "pipe_3 = Pipeline([\n",
    "        ('divide_words', FunctionTransformer(func=divide_words)),\n",
    "        ('trunc_input', FunctionTransformer(func=truncate_input, kw_args={'n_words':600})),\n",
    "        ('tfidf', TfidfVectorizer(ngram_range=(1,2))),\n",
    "        ('clf', MultinomialNB()),\n",
    " ])"
   ]
  },
  {
   "cell_type": "code",
   "execution_count": 22,
   "id": "0789c4d3",
   "metadata": {},
   "outputs": [
    {
     "data": {
      "text/plain": [
       "Pipeline(steps=[('divide_words',\n",
       "                 FunctionTransformer(func=<function divide_words at 0x7ff526467d30>)),\n",
       "                ('trunc_input',\n",
       "                 FunctionTransformer(func=<function truncate_input at 0x7ff518767310>,\n",
       "                                     kw_args={'n_words': 600})),\n",
       "                ('tfidf', TfidfVectorizer(ngram_range=(1, 2))),\n",
       "                ('clf', MultinomialNB())])"
      ]
     },
     "execution_count": 22,
     "metadata": {},
     "output_type": "execute_result"
    }
   ],
   "source": [
    "pipe_3.fit(df_train.Job_offer, df_train.Label)"
   ]
  },
  {
   "cell_type": "code",
   "execution_count": 23,
   "id": "e71f9db0",
   "metadata": {},
   "outputs": [
    {
     "name": "stdout",
     "output_type": "stream",
     "text": [
      "                   precision    recall  f1-score   support\n",
      "\n",
      "   Java Developer    0.75281   0.73626   0.74444        91\n",
      "       Programmer    0.73750   0.61458   0.67045        96\n",
      "Software Engineer    0.82609   0.50667   0.62810        75\n",
      "   System Analyst    0.96552   0.75676   0.84848        74\n",
      "    Web Developer    0.56024   0.90291   0.69145       103\n",
      "\n",
      "         accuracy                        0.71298       439\n",
      "        macro avg    0.76843   0.70344   0.71659       439\n",
      "     weighted avg    0.75265   0.71298   0.71349       439\n",
      "\n"
     ]
    }
   ],
   "source": [
    "evaluate(pipe_3)"
   ]
  },
  {
   "cell_type": "markdown",
   "id": "9640abcb",
   "metadata": {},
   "source": [
    "Siamo riusciti a migliorare..."
   ]
  },
  {
   "cell_type": "markdown",
   "id": "b488977a",
   "metadata": {},
   "source": [
    "## Riduzione numero features\n",
    "Entrambi i tentativi precedenti hanno avuto l'effetto di ridurre il numero di features, escludendone alcune non significative.\n",
    "<br>Esaminiamo la dimensione del vocabolario attuale del TF-IDF:"
   ]
  },
  {
   "cell_type": "code",
   "execution_count": 24,
   "id": "4ab8f742",
   "metadata": {},
   "outputs": [
    {
     "data": {
      "text/plain": [
       "49623"
      ]
     },
     "execution_count": 24,
     "metadata": {},
     "output_type": "execute_result"
    }
   ],
   "source": [
    "len(pipe_3.steps[2][1].vocabulary_)"
   ]
  },
  {
   "cell_type": "markdown",
   "id": "07362cec",
   "metadata": {},
   "source": [
    "Possiamo ancora ridurre il numero delle features, agendo su due fronti:\n",
    "* controllando il parametro *max_df* del TF-IDF:<br>vengono escluse le parole che compaiono in più di una certa frazione di documenti, in quanto probabilmente poco significative\n",
    "* selezionando le features più significative, in base ad un'analisi statistica univariata (*SelectPercentile*)"
   ]
  },
  {
   "cell_type": "code",
   "execution_count": 25,
   "id": "6d6d42b7",
   "metadata": {},
   "outputs": [],
   "source": [
    "pipe_4 = Pipeline([\n",
    "        ('divide_words', FunctionTransformer(func=divide_words)),\n",
    "        ('trunc_input', FunctionTransformer(func=truncate_input, kw_args={'n_words':600})),\n",
    "        ('tfidf', TfidfVectorizer(ngram_range=(1,2), max_df=0.7)),\n",
    "        ('select_features', SelectPercentile(score_func=f_classif, percentile=98)),\n",
    "        ('clf', MultinomialNB()),\n",
    " ])"
   ]
  },
  {
   "cell_type": "code",
   "execution_count": 26,
   "id": "e466d4bf",
   "metadata": {},
   "outputs": [
    {
     "data": {
      "text/plain": [
       "Pipeline(steps=[('divide_words',\n",
       "                 FunctionTransformer(func=<function divide_words at 0x7ff526467d30>)),\n",
       "                ('trunc_input',\n",
       "                 FunctionTransformer(func=<function truncate_input at 0x7ff518767310>,\n",
       "                                     kw_args={'n_words': 600})),\n",
       "                ('tfidf', TfidfVectorizer(max_df=0.7, ngram_range=(1, 2))),\n",
       "                ('select_features', SelectPercentile(percentile=98)),\n",
       "                ('clf', MultinomialNB())])"
      ]
     },
     "execution_count": 26,
     "metadata": {},
     "output_type": "execute_result"
    }
   ],
   "source": [
    "pipe_4.fit(df_train.Job_offer, df_train.Label)"
   ]
  },
  {
   "cell_type": "code",
   "execution_count": 27,
   "id": "97b7cfc2",
   "metadata": {},
   "outputs": [
    {
     "name": "stdout",
     "output_type": "stream",
     "text": [
      "                   precision    recall  f1-score   support\n",
      "\n",
      "   Java Developer    0.75000   0.75824   0.75410        91\n",
      "       Programmer    0.69880   0.60417   0.64804        96\n",
      "Software Engineer    0.82609   0.50667   0.62810        75\n",
      "   System Analyst    0.96610   0.77027   0.85714        74\n",
      "    Web Developer    0.57862   0.89320   0.70229       103\n",
      "\n",
      "         accuracy                        0.71526       439\n",
      "        macro avg    0.76392   0.70651   0.71794       439\n",
      "     weighted avg    0.74802   0.71526   0.71459       439\n",
      "\n"
     ]
    }
   ],
   "source": [
    "evaluate(pipe_4)"
   ]
  },
  {
   "cell_type": "markdown",
   "id": "36b31ba2",
   "metadata": {},
   "source": [
    "Ancora un piccolo miglioramento...\n",
    "<br>Possiamo provare un algoritmo diverso..."
   ]
  },
  {
   "cell_type": "markdown",
   "id": "44800b98",
   "metadata": {},
   "source": [
    "## TF-IDF (con bigrammi) + classificatore SGD\n",
    "Scelgo una SVM lineare, addestrata con discesa stocastica del gradiente"
   ]
  },
  {
   "cell_type": "code",
   "execution_count": 28,
   "id": "375524a6",
   "metadata": {},
   "outputs": [],
   "source": [
    "pipe_5 = Pipeline([\n",
    "        ('divide_words', FunctionTransformer(func=divide_words)),\n",
    "        ('trunc_input', FunctionTransformer(func=truncate_input, kw_args={'n_words':600})),\n",
    "        ('tfidf', TfidfVectorizer(ngram_range=(1,2), max_df=0.7)),\n",
    "        ('select_features', SelectPercentile(score_func=f_classif, percentile=97)),\n",
    "        ('clf', SGDClassifier()),\n",
    " ])"
   ]
  },
  {
   "cell_type": "code",
   "execution_count": 29,
   "id": "d2604b2f",
   "metadata": {},
   "outputs": [
    {
     "data": {
      "text/plain": [
       "Pipeline(steps=[('divide_words',\n",
       "                 FunctionTransformer(func=<function divide_words at 0x7ff526467d30>)),\n",
       "                ('trunc_input',\n",
       "                 FunctionTransformer(func=<function truncate_input at 0x7ff518767310>,\n",
       "                                     kw_args={'n_words': 600})),\n",
       "                ('tfidf', TfidfVectorizer(max_df=0.7, ngram_range=(1, 2))),\n",
       "                ('select_features', SelectPercentile(percentile=97)),\n",
       "                ('clf', SGDClassifier())])"
      ]
     },
     "execution_count": 29,
     "metadata": {},
     "output_type": "execute_result"
    }
   ],
   "source": [
    "pipe_5.fit(df_train.Job_offer, df_train.Label)"
   ]
  },
  {
   "cell_type": "code",
   "execution_count": 30,
   "id": "889b2a51",
   "metadata": {},
   "outputs": [
    {
     "name": "stdout",
     "output_type": "stream",
     "text": [
      "                   precision    recall  f1-score   support\n",
      "\n",
      "   Java Developer    0.80220   0.80220   0.80220        91\n",
      "       Programmer    0.79348   0.76042   0.77660        96\n",
      "Software Engineer    0.76471   0.86667   0.81250        75\n",
      "   System Analyst    0.98571   0.93243   0.95833        74\n",
      "    Web Developer    0.86139   0.84466   0.85294       103\n",
      "\n",
      "         accuracy                        0.83599       439\n",
      "        macro avg    0.84150   0.84127   0.84051       439\n",
      "     weighted avg    0.83871   0.83599   0.83658       439\n",
      "\n"
     ]
    }
   ],
   "source": [
    "evaluate(pipe_5)"
   ]
  },
  {
   "cell_type": "markdown",
   "id": "37ed7cc5",
   "metadata": {},
   "source": [
    "Abbiamo guadagnato più di 10 punti percentuali!\n",
    "<br>Il modello è effettivamente buono."
   ]
  },
  {
   "cell_type": "markdown",
   "id": "2e3fd546",
   "metadata": {},
   "source": [
    "## Grid search: ricerca del modello migliore\n",
    "Il modello a cui siamo arrivati ha buone performance.\n",
    "<br>Gli iperparametri che lo descrivono possono però essere scelti in modo da massimizzare i risultati.\n",
    "<br>Operiamo quindi una ricerca a griglia: il modello viene addestrato sul dataset, senza early stopping. Solo la valutazione finale della performance avviene sul test set.\n",
    "<br>*Nota: negli esperimenti reali, abbiamo testato un numero molto maggiore di modelli e di iperparametri. Qui riportiamo una parte della ricerca, al fine di mostrare la tecnica utilizzata*"
   ]
  },
  {
   "cell_type": "code",
   "execution_count": 31,
   "id": "263d54f8",
   "metadata": {},
   "outputs": [],
   "source": [
    "pipe_6 = Pipeline([\n",
    "        ('divide_words', FunctionTransformer(func=divide_words)),\n",
    "        ('trunc_input', FunctionTransformer(func=truncate_input, kw_args={'n_words':600})),\n",
    "        ('tfidf', TfidfVectorizer(ngram_range=(1,2), max_df=0.7)),\n",
    "        ('select_features', SelectPercentile(score_func=f_classif, percentile=98)),\n",
    "        ('clf', SGDClassifier(loss='hinge', penalty='l2', random_state=42,\n",
    "                            alpha=1e-4, max_iter=20, tol=1e-4, early_stopping=False, n_jobs=3)),\n",
    " ])"
   ]
  },
  {
   "cell_type": "code",
   "execution_count": 32,
   "id": "2a6fac82",
   "metadata": {},
   "outputs": [],
   "source": [
    "parameters = {\n",
    "              'trunc_input__kw_args': [{'n_words':600}, {'n_words':700}],\n",
    "              'tfidf__max_df':[0.6, 0.7, 0.8, 0.9],\n",
    "              'select_features__percentile': [x/100 for x in random.sample(range(9000,10000),20)],\n",
    "              'clf__max_iter':list(range(10,21,1))\n",
    "              }"
   ]
  },
  {
   "cell_type": "code",
   "execution_count": 33,
   "id": "650310ef",
   "metadata": {},
   "outputs": [
    {
     "name": "stdout",
     "output_type": "stream",
     "text": [
      "0.1%\n",
      "14.3%\n",
      "28.5%\n",
      "42.7%\n",
      "56.9%\n",
      "71.1%\n",
      "85.3%\n",
      "99.5%\n"
     ]
    }
   ],
   "source": [
    "import warnings\n",
    "warnings.filterwarnings('ignore') \n",
    "\n",
    "models_list={}\n",
    "\n",
    "models_parameters=ParameterGrid(parameters)\n",
    "for i,params in enumerate(models_parameters):\n",
    "    if i%250==0:\n",
    "        print('{:.1%}'.format((i+1)/len(list(models_parameters))))\n",
    "    \n",
    "    # addestro il modello\n",
    "    pipe_6.set_params(**params)\n",
    "    pipe_6.fit(df_train.Job_offer, df_train.Label)\n",
    "    \n",
    "    # calcolo le performance\n",
    "    y_pred_test=pipe_6.predict(df_test.Job_offer)\n",
    "    f1=metrics.f1_score(df_test.Label, y_pred_test, average='weighted')\n",
    "    \n",
    "    models_list[i]=params\n",
    "    models_list[i]['f1_weighted']=f1"
   ]
  },
  {
   "cell_type": "markdown",
   "id": "7bd28798",
   "metadata": {},
   "source": [
    "Vediamo i migliori modelli ottenuti:"
   ]
  },
  {
   "cell_type": "code",
   "execution_count": 34,
   "id": "4a7c3199",
   "metadata": {},
   "outputs": [
    {
     "data": {
      "text/html": [
       "<div>\n",
       "<style scoped>\n",
       "    .dataframe tbody tr th:only-of-type {\n",
       "        vertical-align: middle;\n",
       "    }\n",
       "\n",
       "    .dataframe tbody tr th {\n",
       "        vertical-align: top;\n",
       "    }\n",
       "\n",
       "    .dataframe thead th {\n",
       "        text-align: right;\n",
       "    }\n",
       "</style>\n",
       "<table border=\"1\" class=\"dataframe\">\n",
       "  <thead>\n",
       "    <tr style=\"text-align: right;\">\n",
       "      <th></th>\n",
       "      <th>clf__max_iter</th>\n",
       "      <th>select_features__percentile</th>\n",
       "      <th>tfidf__max_df</th>\n",
       "      <th>trunc_input__kw_args</th>\n",
       "      <th>f1_weighted</th>\n",
       "    </tr>\n",
       "  </thead>\n",
       "  <tbody>\n",
       "    <tr>\n",
       "      <th>266</th>\n",
       "      <td>11</td>\n",
       "      <td>96.97</td>\n",
       "      <td>0.7</td>\n",
       "      <td>{'n_words': 600}</td>\n",
       "      <td>0.847806</td>\n",
       "    </tr>\n",
       "    <tr>\n",
       "      <th>255</th>\n",
       "      <td>11</td>\n",
       "      <td>99.00</td>\n",
       "      <td>0.9</td>\n",
       "      <td>{'n_words': 700}</td>\n",
       "      <td>0.845405</td>\n",
       "    </tr>\n",
       "    <tr>\n",
       "      <th>253</th>\n",
       "      <td>11</td>\n",
       "      <td>99.00</td>\n",
       "      <td>0.8</td>\n",
       "      <td>{'n_words': 700}</td>\n",
       "      <td>0.845405</td>\n",
       "    </tr>\n",
       "    <tr>\n",
       "      <th>263</th>\n",
       "      <td>11</td>\n",
       "      <td>98.24</td>\n",
       "      <td>0.9</td>\n",
       "      <td>{'n_words': 700}</td>\n",
       "      <td>0.845345</td>\n",
       "    </tr>\n",
       "    <tr>\n",
       "      <th>261</th>\n",
       "      <td>11</td>\n",
       "      <td>98.24</td>\n",
       "      <td>0.8</td>\n",
       "      <td>{'n_words': 700}</td>\n",
       "      <td>0.845345</td>\n",
       "    </tr>\n",
       "  </tbody>\n",
       "</table>\n",
       "</div>"
      ],
      "text/plain": [
       "     clf__max_iter  select_features__percentile  tfidf__max_df  \\\n",
       "266             11                        96.97            0.7   \n",
       "255             11                        99.00            0.9   \n",
       "253             11                        99.00            0.8   \n",
       "263             11                        98.24            0.9   \n",
       "261             11                        98.24            0.8   \n",
       "\n",
       "    trunc_input__kw_args  f1_weighted  \n",
       "266     {'n_words': 600}     0.847806  \n",
       "255     {'n_words': 700}     0.845405  \n",
       "253     {'n_words': 700}     0.845405  \n",
       "263     {'n_words': 700}     0.845345  \n",
       "261     {'n_words': 700}     0.845345  "
      ]
     },
     "execution_count": 35,
     "metadata": {},
     "output_type": "execute_result"
    }
   ],
   "source": [
    "models_df=pd.DataFrame.from_dict(models_list, orient='index').sort_values('f1_weighted', ascending=False)\n",
    "models_df[:5]"
   ]
  },
  {
   "cell_type": "markdown",
   "id": "19eae8e6",
   "metadata": {},
   "source": [
    "Riaddestriamo il migliore modello, per verificarne più ampiamente le performance"
   ]
  },
  {
   "cell_type": "code",
   "execution_count": 36,
   "id": "679317c7",
   "metadata": {},
   "outputs": [],
   "source": [
    "best_pipe = Pipeline([\n",
    "        ('divide_words', FunctionTransformer(func=divide_words)),\n",
    "        ('trunc_input', FunctionTransformer(func=truncate_input,\n",
    "                                            kw_args={'n_words':600})),\n",
    "        ('tfidf', TfidfVectorizer(ngram_range=(1,2), max_df=0.7)),\n",
    "        ('select_features', SelectPercentile(score_func=f_classif, \n",
    "                                             percentile=96.97)),\n",
    "        ('clf', SGDClassifier(loss='hinge', penalty='l2',\n",
    "                            alpha=1e-4, max_iter=11, \n",
    "                            tol=1e-4, early_stopping=False,\n",
    "                            random_state=42))\n",
    "])"
   ]
  },
  {
   "cell_type": "code",
   "execution_count": 37,
   "id": "5936214c",
   "metadata": {},
   "outputs": [
    {
     "name": "stdout",
     "output_type": "stream",
     "text": [
      "CPU times: user 1.3 s, sys: 104 ms, total: 1.4 s\n",
      "Wall time: 1.26 s\n"
     ]
    },
    {
     "data": {
      "text/plain": [
       "Pipeline(steps=[('divide_words',\n",
       "                 FunctionTransformer(func=<function divide_words at 0x7ff526467d30>)),\n",
       "                ('trunc_input',\n",
       "                 FunctionTransformer(func=<function truncate_input at 0x7ff518767310>,\n",
       "                                     kw_args={'n_words': 600})),\n",
       "                ('tfidf', TfidfVectorizer(max_df=0.7, ngram_range=(1, 2))),\n",
       "                ('select_features', SelectPercentile(percentile=96.97)),\n",
       "                ('clf',\n",
       "                 SGDClassifier(max_iter=11, random_state=42, tol=0.0001))])"
      ]
     },
     "execution_count": 37,
     "metadata": {},
     "output_type": "execute_result"
    }
   ],
   "source": [
    "%%time\n",
    "best_pipe.fit(df_train.Job_offer, df_train.Label)"
   ]
  },
  {
   "cell_type": "code",
   "execution_count": 38,
   "id": "ed4c17e1",
   "metadata": {},
   "outputs": [
    {
     "name": "stdout",
     "output_type": "stream",
     "text": [
      "                   precision    recall  f1-score   support\n",
      "\n",
      "   Java Developer    0.81319   0.81319   0.81319        91\n",
      "       Programmer    0.79787   0.78125   0.78947        96\n",
      "Software Engineer    0.82278   0.86667   0.84416        75\n",
      "   System Analyst    0.98551   0.91892   0.95105        74\n",
      "    Web Developer    0.84906   0.87379   0.86124       103\n",
      "\n",
      "         accuracy                        0.84738       439\n",
      "        macro avg    0.85368   0.85076   0.85182       439\n",
      "     weighted avg    0.84894   0.84738   0.84781       439\n",
      "\n"
     ]
    }
   ],
   "source": [
    "evaluate(best_pipe)"
   ]
  }
 ],
 "metadata": {
  "kernelspec": {
   "display_name": "Python 3",
   "language": "python",
   "name": "python3"
  },
  "language_info": {
   "codemirror_mode": {
    "name": "ipython",
    "version": 3
   },
   "file_extension": ".py",
   "mimetype": "text/x-python",
   "name": "python",
   "nbconvert_exporter": "python",
   "pygments_lexer": "ipython3",
   "version": "3.8.1"
  }
 },
 "nbformat": 4,
 "nbformat_minor": 5
}
